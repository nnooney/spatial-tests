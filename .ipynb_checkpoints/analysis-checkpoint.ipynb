{
 "cells": [
  {
   "cell_type": "code",
   "execution_count": 1,
   "metadata": {
    "collapsed": false
   },
   "outputs": [],
   "source": [
    "import json\n",
    "import numpy as np\n",
    "import matplotlib.pyplot as plt\n",
    "import statsmodels.api as sm"
   ]
  },
  {
   "cell_type": "code",
   "execution_count": 2,
   "metadata": {
    "collapsed": false
   },
   "outputs": [],
   "source": [
    "data = open('data.txt', 'r').read()\n",
    "observations = data.split('\\n')"
   ]
  },
  {
   "cell_type": "code",
   "execution_count": 5,
   "metadata": {
    "collapsed": false
   },
   "outputs": [],
   "source": [
    "tupledData = []\n",
    "for obs in observations:\n",
    "    if (len(obs) == 0):\n",
    "        continue\n",
    "    cleanedData = json.loads(obs)\n",
    "    \n",
    "    # Get the participant id\n",
    "    for key, value in cleanedData.items():\n",
    "        qtag = key.split('.')\n",
    "        pid = qtag[0]\n",
    "        section = qtag[1]\n",
    "        trial = qtag[2]\n",
    "        if (trial.isdigit()):\n",
    "            trial = int(qtag[2])\n",
    "            if (qtag[1]=='bldg' and qtag[3]!='time'):\n",
    "                tstat = qtag[3]+qtag[4]\n",
    "            else:\n",
    "                tstat = qtag[3]\n",
    "        else:\n",
    "            tstat = \"\"\n",
    "        if (pid != 'abcde' and pid != 'aaaaa'):\n",
    "            tupledData.append((pid, section, trial, tstat, value))\n",
    "        \n"
   ]
  },
  {
   "cell_type": "code",
   "execution_count": 6,
   "metadata": {
    "collapsed": false
   },
   "outputs": [
    {
     "name": "stdout",
     "output_type": "stream",
     "text": [
      "42\n"
     ]
    }
   ],
   "source": [
    "# List of Participants\n",
    "participants = set([t[0] for t in tupledData])\n",
    "print(len(participants))"
   ]
  },
  {
   "cell_type": "code",
   "execution_count": 7,
   "metadata": {
    "collapsed": false
   },
   "outputs": [],
   "source": [
    "scores = [int(t[4]) for t in tupledData if t[2]==\"directions\"]"
   ]
  },
  {
   "cell_type": "code",
   "execution_count": 8,
   "metadata": {
    "collapsed": false
   },
   "outputs": [],
   "source": [
    "# Generate a histogram of the scores\n",
    "yvals = [scores.count(i) for i in range(1,5)]\n",
    "width = 0.7\n",
    "labels = ['very poor','poor','average','good','very good']\n",
    "plt.xlim(0.5,5.5)\n",
    "plt.ylim(0, max(yvals)+1)\n",
    "plt.bar(range(1,5), yvals, align='center', width=width)\n",
    "plt.xticks(range(1,5), labels)\n",
    "plt.show()"
   ]
  },
  {
   "cell_type": "code",
   "execution_count": 12,
   "metadata": {
    "collapsed": false
   },
   "outputs": [],
   "source": [
    "# Get the number correct and avg response time for each participant \n",
    "# in the Mental Rotation Task\n",
    "correct = []\n",
    "mspeeds = []\n",
    "for pid in participants:\n",
    "    num = 0\n",
    "    speed = sum([int(t[4]) for t in tupledData if t[0]==pid and t[1]=='mrt' and t[3]=='time'])\n",
    "    for i in range(1,30):\n",
    "        pair = [t for t in tupledData if t[0]==pid and t[1]=='mrt' and t[2]==i and t[3]!='time']\n",
    "        if (pair[0][4] == pair[1][4]):\n",
    "            num += 1\n",
    "    correct.append(num)\n",
    "    mspeeds.append(speed/30)"
   ]
  },
  {
   "cell_type": "code",
   "execution_count": 10,
   "metadata": {
    "collapsed": false
   },
   "outputs": [],
   "source": [
    "# Generate a historgram of the accuracy and speed\n",
    "yvals = [correct.count(i) for i in range(1,30)]\n",
    "width = 0.7\n",
    "plt.xlim(-0.5, 30.5)\n",
    "plt.ylim(0, max(yvals)+1)\n",
    "plt.bar(range(1,30), yvals, align='center', width=width)\n",
    "plt.show()"
   ]
  },
  {
   "cell_type": "code",
   "execution_count": 15,
   "metadata": {
    "collapsed": false
   },
   "outputs": [
    {
     "name": "stdout",
     "output_type": "stream",
     "text": [
      "43 42\n"
     ]
    }
   ],
   "source": [
    "print(len(scores),len(mspeeds))"
   ]
  },
  {
   "cell_type": "code",
   "execution_count": 13,
   "metadata": {
    "collapsed": false
   },
   "outputs": [
    {
     "ename": "ValueError",
     "evalue": "x and y must be the same size",
     "output_type": "error",
     "traceback": [
      "\u001b[1;31m---------------------------------------------------------------------------\u001b[0m",
      "\u001b[1;31mValueError\u001b[0m                                Traceback (most recent call last)",
      "\u001b[1;32m<ipython-input-13-1a58ff1629e3>\u001b[0m in \u001b[0;36m<module>\u001b[1;34m()\u001b[0m\n\u001b[0;32m      1\u001b[0m \u001b[1;31m# Generate a scatter plot of speed and accuracy\u001b[0m\u001b[1;33m\u001b[0m\u001b[1;33m\u001b[0m\u001b[0m\n\u001b[1;32m----> 2\u001b[1;33m \u001b[0mplt\u001b[0m\u001b[1;33m.\u001b[0m\u001b[0mscatter\u001b[0m\u001b[1;33m(\u001b[0m\u001b[0mscores\u001b[0m\u001b[1;33m,\u001b[0m\u001b[0mmspeeds\u001b[0m\u001b[1;33m)\u001b[0m\u001b[1;33m\u001b[0m\u001b[0m\n\u001b[0m\u001b[0;32m      3\u001b[0m \u001b[0mplt\u001b[0m\u001b[1;33m.\u001b[0m\u001b[0mshow\u001b[0m\u001b[1;33m(\u001b[0m\u001b[1;33m)\u001b[0m\u001b[1;33m\u001b[0m\u001b[0m\n",
      "\u001b[1;32mC:\\Users\\Nick\\.conda\\envs\\python3\\lib\\site-packages\\matplotlib\\pyplot.py\u001b[0m in \u001b[0;36mscatter\u001b[1;34m(x, y, s, c, marker, cmap, norm, vmin, vmax, alpha, linewidths, verts, edgecolors, hold, data, **kwargs)\u001b[0m\n\u001b[0;32m   3249\u001b[0m                          \u001b[0mvmin\u001b[0m\u001b[1;33m=\u001b[0m\u001b[0mvmin\u001b[0m\u001b[1;33m,\u001b[0m \u001b[0mvmax\u001b[0m\u001b[1;33m=\u001b[0m\u001b[0mvmax\u001b[0m\u001b[1;33m,\u001b[0m \u001b[0malpha\u001b[0m\u001b[1;33m=\u001b[0m\u001b[0malpha\u001b[0m\u001b[1;33m,\u001b[0m\u001b[1;33m\u001b[0m\u001b[0m\n\u001b[0;32m   3250\u001b[0m                          \u001b[0mlinewidths\u001b[0m\u001b[1;33m=\u001b[0m\u001b[0mlinewidths\u001b[0m\u001b[1;33m,\u001b[0m \u001b[0mverts\u001b[0m\u001b[1;33m=\u001b[0m\u001b[0mverts\u001b[0m\u001b[1;33m,\u001b[0m\u001b[1;33m\u001b[0m\u001b[0m\n\u001b[1;32m-> 3251\u001b[1;33m                          edgecolors=edgecolors, data=data, **kwargs)\n\u001b[0m\u001b[0;32m   3252\u001b[0m     \u001b[1;32mfinally\u001b[0m\u001b[1;33m:\u001b[0m\u001b[1;33m\u001b[0m\u001b[0m\n\u001b[0;32m   3253\u001b[0m         \u001b[0max\u001b[0m\u001b[1;33m.\u001b[0m\u001b[0mhold\u001b[0m\u001b[1;33m(\u001b[0m\u001b[0mwashold\u001b[0m\u001b[1;33m)\u001b[0m\u001b[1;33m\u001b[0m\u001b[0m\n",
      "\u001b[1;32mC:\\Users\\Nick\\.conda\\envs\\python3\\lib\\site-packages\\matplotlib\\__init__.py\u001b[0m in \u001b[0;36minner\u001b[1;34m(ax, *args, **kwargs)\u001b[0m\n\u001b[0;32m   1809\u001b[0m                     warnings.warn(msg % (label_namer, func.__name__),\n\u001b[0;32m   1810\u001b[0m                                   RuntimeWarning, stacklevel=2)\n\u001b[1;32m-> 1811\u001b[1;33m             \u001b[1;32mreturn\u001b[0m \u001b[0mfunc\u001b[0m\u001b[1;33m(\u001b[0m\u001b[0max\u001b[0m\u001b[1;33m,\u001b[0m \u001b[1;33m*\u001b[0m\u001b[0margs\u001b[0m\u001b[1;33m,\u001b[0m \u001b[1;33m**\u001b[0m\u001b[0mkwargs\u001b[0m\u001b[1;33m)\u001b[0m\u001b[1;33m\u001b[0m\u001b[0m\n\u001b[0m\u001b[0;32m   1812\u001b[0m         \u001b[0mpre_doc\u001b[0m \u001b[1;33m=\u001b[0m \u001b[0minner\u001b[0m\u001b[1;33m.\u001b[0m\u001b[0m__doc__\u001b[0m\u001b[1;33m\u001b[0m\u001b[0m\n\u001b[0;32m   1813\u001b[0m         \u001b[1;32mif\u001b[0m \u001b[0mpre_doc\u001b[0m \u001b[1;32mis\u001b[0m \u001b[1;32mNone\u001b[0m\u001b[1;33m:\u001b[0m\u001b[1;33m\u001b[0m\u001b[0m\n",
      "\u001b[1;32mC:\\Users\\Nick\\.conda\\envs\\python3\\lib\\site-packages\\matplotlib\\axes\\_axes.py\u001b[0m in \u001b[0;36mscatter\u001b[1;34m(self, x, y, s, c, marker, cmap, norm, vmin, vmax, alpha, linewidths, verts, edgecolors, **kwargs)\u001b[0m\n\u001b[0;32m   3838\u001b[0m         \u001b[0my\u001b[0m \u001b[1;33m=\u001b[0m \u001b[0mnp\u001b[0m\u001b[1;33m.\u001b[0m\u001b[0mma\u001b[0m\u001b[1;33m.\u001b[0m\u001b[0mravel\u001b[0m\u001b[1;33m(\u001b[0m\u001b[0my\u001b[0m\u001b[1;33m)\u001b[0m\u001b[1;33m\u001b[0m\u001b[0m\n\u001b[0;32m   3839\u001b[0m         \u001b[1;32mif\u001b[0m \u001b[0mx\u001b[0m\u001b[1;33m.\u001b[0m\u001b[0msize\u001b[0m \u001b[1;33m!=\u001b[0m \u001b[0my\u001b[0m\u001b[1;33m.\u001b[0m\u001b[0msize\u001b[0m\u001b[1;33m:\u001b[0m\u001b[1;33m\u001b[0m\u001b[0m\n\u001b[1;32m-> 3840\u001b[1;33m             \u001b[1;32mraise\u001b[0m \u001b[0mValueError\u001b[0m\u001b[1;33m(\u001b[0m\u001b[1;34m\"x and y must be the same size\"\u001b[0m\u001b[1;33m)\u001b[0m\u001b[1;33m\u001b[0m\u001b[0m\n\u001b[0m\u001b[0;32m   3841\u001b[0m \u001b[1;33m\u001b[0m\u001b[0m\n\u001b[0;32m   3842\u001b[0m         \u001b[0ms\u001b[0m \u001b[1;33m=\u001b[0m \u001b[0mnp\u001b[0m\u001b[1;33m.\u001b[0m\u001b[0mma\u001b[0m\u001b[1;33m.\u001b[0m\u001b[0mravel\u001b[0m\u001b[1;33m(\u001b[0m\u001b[0ms\u001b[0m\u001b[1;33m)\u001b[0m  \u001b[1;31m# This doesn't have to match x, y in size.\u001b[0m\u001b[1;33m\u001b[0m\u001b[0m\n",
      "\u001b[1;31mValueError\u001b[0m: x and y must be the same size"
     ]
    }
   ],
   "source": [
    "# Generate a scatter plot of speed and accuracy\n",
    "plt.scatter(scores,mspeeds)\n",
    "plt.show()"
   ]
  },
  {
   "cell_type": "code",
   "execution_count": 59,
   "metadata": {
    "collapsed": false
   },
   "outputs": [
    {
     "name": "stdout",
     "output_type": "stream",
     "text": [
      "                            OLS Regression Results                            \n",
      "==============================================================================\n",
      "Dep. Variable:                      y   R-squared:                       0.002\n",
      "Model:                            OLS   Adj. R-squared:                 -0.109\n",
      "Method:                 Least Squares   F-statistic:                   0.02002\n",
      "Date:                Thu, 12 May 2016   Prob (F-statistic):              0.891\n",
      "Time:                        12:51:11   Log-Likelihood:                -27.374\n",
      "No. Observations:                  11   AIC:                             58.75\n",
      "Df Residuals:                       9   BIC:                             59.54\n",
      "Df Model:                           1                                         \n",
      "Covariance Type:            nonrobust                                         \n",
      "==============================================================================\n",
      "                 coef    std err          t      P>|t|      [95.0% Conf. Int.]\n",
      "------------------------------------------------------------------------------\n",
      "const         25.5714      2.920      8.757      0.000        18.966    32.177\n",
      "x1            -0.1429      1.010     -0.141      0.891        -2.427     2.141\n",
      "==============================================================================\n",
      "Omnibus:                        8.559   Durbin-Watson:                   1.326\n",
      "Prob(Omnibus):                  0.014   Jarque-Bera (JB):                4.202\n",
      "Skew:                          -1.454   Prob(JB):                        0.122\n",
      "Kurtosis:                       3.846   Cond. No.                         9.63\n",
      "==============================================================================\n",
      "\n",
      "Warnings:\n",
      "[1] Standard Errors assume that the covariance matrix of the errors is correctly specified.\n",
      "                            OLS Regression Results                            \n",
      "==============================================================================\n",
      "Dep. Variable:                      y   R-squared:                       0.105\n",
      "Model:                            OLS   Adj. R-squared:                  0.005\n",
      "Method:                 Least Squares   F-statistic:                     1.052\n",
      "Date:                Thu, 12 May 2016   Prob (F-statistic):              0.332\n",
      "Time:                        12:51:11   Log-Likelihood:                -92.378\n",
      "No. Observations:                  11   AIC:                             188.8\n",
      "Df Residuals:                       9   BIC:                             189.6\n",
      "Df Model:                           1                                         \n",
      "Covariance Type:            nonrobust                                         \n",
      "==============================================================================\n",
      "                 coef    std err          t      P>|t|      [95.0% Conf. Int.]\n",
      "------------------------------------------------------------------------------\n",
      "const       6095.7202   1076.044      5.665      0.000      3661.540  8529.900\n",
      "x1          -381.6696    372.077     -1.026      0.332     -1223.365   460.026\n",
      "==============================================================================\n",
      "Omnibus:                        4.920   Durbin-Watson:                   2.670\n",
      "Prob(Omnibus):                  0.085   Jarque-Bera (JB):                2.151\n",
      "Skew:                           1.067   Prob(JB):                        0.341\n",
      "Kurtosis:                       3.378   Cond. No.                         9.63\n",
      "==============================================================================\n",
      "\n",
      "Warnings:\n",
      "[1] Standard Errors assume that the covariance matrix of the errors is correctly specified.\n"
     ]
    },
    {
     "name": "stderr",
     "output_type": "stream",
     "text": [
      "C:\\Users\\Nick\\.conda\\envs\\python3\\lib\\site-packages\\scipy\\stats\\stats.py:1557: UserWarning: kurtosistest only valid for n>=20 ... continuing anyway, n=11\n",
      "  \"anyway, n=%i\" % int(n))\n"
     ]
    }
   ],
   "source": [
    "# T Tests\n",
    "sm.stats.ttest_ind(scores, mspeeds)\n",
    "sm.stats.ttest_ind(scores, correct)\n",
    "X = scores\n",
    "X = sm.add_constant(X)\n",
    "y = correct\n",
    "print(sm.OLS(y,X).fit().summary())\n",
    "y2 = mspeeds\n",
    "print(sm.OLS(y2,X).fit().summary())"
   ]
  },
  {
   "cell_type": "code",
   "execution_count": 60,
   "metadata": {
    "collapsed": false
   },
   "outputs": [],
   "source": [
    "# Get the average error and avg response time for each participant\n",
    "# in the Placing Buildings on a Map Task\n",
    "error = []\n",
    "bspeeds = []\n",
    "for pid in participants:\n",
    "    dist = 0;\n",
    "    speed = sum([int(t[4]) for t in tupledData if t[0]==pid and t[1]=='bldg' and t[3]=='time'])\n",
    "    for i in range(1,15):\n",
    "        pairx = [t for t in tupledData if t[0]==pid and t[1]=='bldg' and t[2]==i and (t[3]=='guessx' or t[3]=='actualx')]\n",
    "        pairy = [t for t in tupledData if t[0]==pid and t[1]=='bldg' and t[2]==i and (t[3]=='guessy' or t[3]=='actualy')]\n",
    "        dist += np.sqrt((float(pairx[0][4])-float(pairx[1][4]))**2+(float(pairy[0][4])-float(pairy[1][4]))**2)\n",
    "    bspeeds.append(speed/15)\n",
    "    error.append(dist/15)\n",
    "# Check that the error is right with the scaling"
   ]
  },
  {
   "cell_type": "code",
   "execution_count": 61,
   "metadata": {
    "collapsed": false
   },
   "outputs": [],
   "source": [
    "# Generate a historgram of the error and speed\n",
    "plt.scatter(scores,error)\n",
    "plt.show()"
   ]
  },
  {
   "cell_type": "code",
   "execution_count": 62,
   "metadata": {
    "collapsed": true
   },
   "outputs": [],
   "source": [
    "# Generate a scatter plot of speed and accuracy\n",
    "plt.scatter(scores,bspeeds)\n",
    "plt.show()"
   ]
  },
  {
   "cell_type": "code",
   "execution_count": 63,
   "metadata": {
    "collapsed": false
   },
   "outputs": [
    {
     "name": "stdout",
     "output_type": "stream",
     "text": [
      "                            OLS Regression Results                            \n",
      "==============================================================================\n",
      "Dep. Variable:                      y   R-squared:                       0.005\n",
      "Model:                            OLS   Adj. R-squared:                 -0.105\n",
      "Method:                 Least Squares   F-statistic:                   0.04762\n",
      "Date:                Thu, 12 May 2016   Prob (F-statistic):              0.832\n",
      "Time:                        12:51:53   Log-Likelihood:                -56.788\n",
      "No. Observations:                  11   AIC:                             117.6\n",
      "Df Residuals:                       9   BIC:                             118.4\n",
      "Df Model:                           1                                         \n",
      "Covariance Type:            nonrobust                                         \n",
      "==============================================================================\n",
      "                 coef    std err          t      P>|t|      [95.0% Conf. Int.]\n",
      "------------------------------------------------------------------------------\n",
      "const         78.3858     42.335      1.852      0.097       -17.382   174.154\n",
      "x1             3.1944     14.639      0.218      0.832       -29.921    36.309\n",
      "==============================================================================\n",
      "Omnibus:                       12.738   Durbin-Watson:                   2.383\n",
      "Prob(Omnibus):                  0.002   Jarque-Bera (JB):                6.740\n",
      "Skew:                           1.603   Prob(JB):                       0.0344\n",
      "Kurtosis:                       5.103   Cond. No.                         9.63\n",
      "==============================================================================\n",
      "\n",
      "Warnings:\n",
      "[1] Standard Errors assume that the covariance matrix of the errors is correctly specified.\n",
      "                            OLS Regression Results                            \n",
      "==============================================================================\n",
      "Dep. Variable:                      y   R-squared:                       0.040\n",
      "Model:                            OLS   Adj. R-squared:                 -0.067\n",
      "Method:                 Least Squares   F-statistic:                    0.3749\n",
      "Date:                Thu, 12 May 2016   Prob (F-statistic):              0.556\n",
      "Time:                        12:51:53   Log-Likelihood:                -111.39\n",
      "No. Observations:                  11   AIC:                             226.8\n",
      "Df Residuals:                       9   BIC:                             227.6\n",
      "Df Model:                           1                                         \n",
      "Covariance Type:            nonrobust                                         \n",
      "==============================================================================\n",
      "                 coef    std err          t      P>|t|      [95.0% Conf. Int.]\n",
      "------------------------------------------------------------------------------\n",
      "const       1.379e+04   6060.735      2.275      0.049        76.841  2.75e+04\n",
      "x1          1283.0994   2095.693      0.612      0.556     -3457.689  6023.887\n",
      "==============================================================================\n",
      "Omnibus:                        0.202   Durbin-Watson:                   1.505\n",
      "Prob(Omnibus):                  0.904   Jarque-Bera (JB):                0.196\n",
      "Skew:                           0.214   Prob(JB):                        0.907\n",
      "Kurtosis:                       2.507   Cond. No.                         9.63\n",
      "==============================================================================\n",
      "\n",
      "Warnings:\n",
      "[1] Standard Errors assume that the covariance matrix of the errors is correctly specified.\n"
     ]
    },
    {
     "name": "stderr",
     "output_type": "stream",
     "text": [
      "C:\\Users\\Nick\\.conda\\envs\\python3\\lib\\site-packages\\scipy\\stats\\stats.py:1557: UserWarning: kurtosistest only valid for n>=20 ... continuing anyway, n=11\n",
      "  \"anyway, n=%i\" % int(n))\n"
     ]
    }
   ],
   "source": [
    "# Run a T-test and OLS model on our scores\n",
    "X = scores\n",
    "X = sm.add_constant(X)\n",
    "y = error\n",
    "print(sm.OLS(y,X).fit().summary())\n",
    "y2 = bspeeds\n",
    "print(sm.OLS(y2,X).fit().summary())"
   ]
  },
  {
   "cell_type": "code",
   "execution_count": null,
   "metadata": {
    "collapsed": true
   },
   "outputs": [],
   "source": []
  }
 ],
 "metadata": {
  "kernelspec": {
   "display_name": "Python 3",
   "language": "python",
   "name": "python3"
  },
  "language_info": {
   "codemirror_mode": {
    "name": "ipython",
    "version": 3
   },
   "file_extension": ".py",
   "mimetype": "text/x-python",
   "name": "python",
   "nbconvert_exporter": "python",
   "pygments_lexer": "ipython3",
   "version": "3.5.1"
  }
 },
 "nbformat": 4,
 "nbformat_minor": 0
}
