{
 "cells": [
  {
   "cell_type": "code",
   "execution_count": 1,
   "metadata": {
    "collapsed": false
   },
   "outputs": [],
   "source": [
    "import json\n",
    "import numpy as np\n",
    "import matplotlib.pyplot as plt\n",
    "import statsmodels.api as sm"
   ]
  },
  {
   "cell_type": "code",
   "execution_count": 2,
   "metadata": {
    "collapsed": false
   },
   "outputs": [],
   "source": [
    "data = open('data.txt', 'r').read()\n",
    "observations = data.split('\\n')"
   ]
  },
  {
   "cell_type": "code",
   "execution_count": 3,
   "metadata": {
    "collapsed": false
   },
   "outputs": [],
   "source": [
    "tupledData = []\n",
    "for obs in observations:\n",
    "    if (len(obs) == 0):\n",
    "        continue\n",
    "    cleanedData = json.loads(obs)\n",
    "    \n",
    "    # Get the participant id\n",
    "    for key, value in cleanedData.items():\n",
    "        qtag = key.split('.')\n",
    "        pid = qtag[0]\n",
    "        section = qtag[1]\n",
    "        trial = qtag[2]\n",
    "        if (trial.isdigit()):\n",
    "            trial = int(qtag[2])\n",
    "            if (qtag[1]=='bldg' and qtag[3]!='time'):\n",
    "                tstat = qtag[3]+qtag[4]\n",
    "            else:\n",
    "                tstat = qtag[3]\n",
    "        else:\n",
    "            tstat = \"\"\n",
    "        if (pid != 'abcde' and pid != 'aaaaa'):\n",
    "            tupledData.append((pid, section, trial, tstat, value))\n",
    "        \n"
   ]
  },
  {
   "cell_type": "code",
   "execution_count": 4,
   "metadata": {
    "collapsed": false
   },
   "outputs": [
    {
     "name": "stdout",
     "output_type": "stream",
     "text": [
      "61 ['cmrag', 'cocbp', 'pasxw', 'esjmj', 'calfs', 'boefn', 'hjefp', 'kskdo', 'mmmhb', 'masme', 'gmklg', 'cjmxw', 'ualkc', 'kadsg', 'momgm', 'gfcpg', 'amctc', 'holkh', 'inmnc', 'cjsgw', 'hdknh', 'emmmb', 'ffbxf', 'mmsem', 'omllb', 'sorfb', 'nmctc', 'amctc', 'cmgxt', 'rjssg', 'caipf', 'mjkub', 'eojnp', 'somxc', 'pmdxe', 'gmpbw', 'ejies', 'fobmm', 'amsxm', 'rfgzw', 'sadgc', 'lomle', 'sjals', 'bmtjn', 'cnkrc', 'bfscb', 'lacsc', 'lalml', 'cmall', 'lnowg', 'bmfag', 'cjsmm', 'ijnfm', 'dmadb', 'bakfl', 'sfcks', 'casmm', 'espbb', 'tamxr', 'bjpfr', 'cowxr']\n"
     ]
    }
   ],
   "source": [
    "# List of Participants\n",
    "participants = [t[0] for t in tupledData if t[1]=='pre' and t[2]=='completed']\n",
    "print(len(participants),participants)"
   ]
  },
  {
   "cell_type": "code",
   "execution_count": 5,
   "metadata": {
    "collapsed": false
   },
   "outputs": [
    {
     "name": "stdout",
     "output_type": "stream",
     "text": [
      "61 [4, 3, 2, 4, 2, 2, 3, 2, 3, 4, 1, 2, 3, 3, 1, 3, 4, 4, 2, 2, 5, 4, 5, 2, 3, 4, 4, 4, 3, 1, 5, 4, 3, 3, 2, 1, 3, 4, 2, 3, 4, 4, 4, 5, 4, 4, 4, 3, 4, 4, 2, 4, 2, 3, 3, 3, 3, 3, 4, 3, 4]\n"
     ]
    }
   ],
   "source": [
    "scores = [int(t[4]) for t in tupledData if t[2]==\"directions\" and t[0] in participants]\n",
    "print(len(scores),scores)"
   ]
  },
  {
   "cell_type": "code",
   "execution_count": 6,
   "metadata": {
    "collapsed": false
   },
   "outputs": [],
   "source": [
    "# Generate a histogram of the scores\n",
    "yvals = [scores.count(i) for i in range(1,6)]\n",
    "width = 0.7\n",
    "labels = ['very poor','poor','average','good','very good']\n",
    "plt.xlim(0.5,5.5)\n",
    "plt.ylim(0, max(yvals)+1)\n",
    "plt.bar(range(1,6), yvals, align='center', width=width)\n",
    "plt.xticks(range(1,6), labels)\n",
    "plt.show()"
   ]
  },
  {
   "cell_type": "code",
   "execution_count": 7,
   "metadata": {
    "collapsed": false
   },
   "outputs": [],
   "source": [
    "# Get the number correct and avg response time for each participant \n",
    "# in the Mental Rotation Task\n",
    "correct = []\n",
    "mspeeds = []\n",
    "for pid in participants:\n",
    "    num = 0\n",
    "    speed = sum([int(t[4]) for t in tupledData if t[0]==pid and t[1]=='mrt' and t[3]=='time'])\n",
    "    for i in range(1,30):\n",
    "        pair = [t for t in tupledData if t[0]==pid and t[1]=='mrt' and t[2]==i and t[3]!='time']\n",
    "        if (pair[0][4] == pair[1][4]):\n",
    "            num += 1\n",
    "    correct.append(num)\n",
    "    mspeeds.append(speed/30)"
   ]
  },
  {
   "cell_type": "code",
   "execution_count": 8,
   "metadata": {
    "collapsed": false
   },
   "outputs": [],
   "source": [
    "# Generate a historgram of the accuracy and speed\n",
    "yvals = [correct.count(i) for i in range(1,30)]\n",
    "width = 0.7\n",
    "plt.xlim(-0.5, 30.5)\n",
    "plt.ylim(0, max(yvals)+1)\n",
    "plt.bar(range(1,30), yvals, align='center', width=width)\n",
    "plt.show()"
   ]
  },
  {
   "cell_type": "code",
   "execution_count": 18,
   "metadata": {
    "collapsed": true
   },
   "outputs": [],
   "source": [
    "plt.scatter(correct, mspeeds)\n",
    "plt.show()"
   ]
  },
  {
   "cell_type": "code",
   "execution_count": 36,
   "metadata": {
    "collapsed": false
   },
   "outputs": [
    {
     "name": "stdout",
     "output_type": "stream",
     "text": [
      "61 61\n"
     ]
    }
   ],
   "source": [
    "print(len(scores),len(mspeeds))"
   ]
  },
  {
   "cell_type": "code",
   "execution_count": 17,
   "metadata": {
    "collapsed": false
   },
   "outputs": [],
   "source": [
    "# Generate a scatter plot of speed and accuracy\n",
    "plt.scatter(scores,mspeeds)\n",
    "plt.show()"
   ]
  },
  {
   "cell_type": "code",
   "execution_count": 16,
   "metadata": {
    "collapsed": false
   },
   "outputs": [
    {
     "name": "stdout",
     "output_type": "stream",
     "text": [
      "                            OLS Regression Results                            \n",
      "==============================================================================\n",
      "Dep. Variable:                      y   R-squared:                       0.070\n",
      "Model:                            OLS   Adj. R-squared:                  0.038\n",
      "Method:                 Least Squares   F-statistic:                     2.185\n",
      "Date:                Mon, 16 May 2016   Prob (F-statistic):              0.122\n",
      "Time:                        13:54:57   Log-Likelihood:                -182.28\n",
      "No. Observations:                  61   AIC:                             370.6\n",
      "Df Residuals:                      58   BIC:                             376.9\n",
      "Df Model:                           2                                         \n",
      "Covariance Type:            nonrobust                                         \n",
      "==============================================================================\n",
      "                 coef    std err          t      P>|t|      [95.0% Conf. Int.]\n",
      "------------------------------------------------------------------------------\n",
      "const         18.5980      4.560      4.079      0.000         9.470    27.726\n",
      "x1             1.1942      3.159      0.378      0.707        -5.129     7.517\n",
      "x2             0.0149      0.518      0.029      0.977        -1.021     1.051\n",
      "==============================================================================\n",
      "Omnibus:                       10.468   Durbin-Watson:                   1.547\n",
      "Prob(Omnibus):                  0.005   Jarque-Bera (JB):               10.557\n",
      "Skew:                          -0.993   Prob(JB):                      0.00510\n",
      "Kurtosis:                       3.461   Cond. No.                         115.\n",
      "==============================================================================\n",
      "\n",
      "Warnings:\n",
      "[1] Standard Errors assume that the covariance matrix of the errors is correctly specified.\n",
      "                            OLS Regression Results                            \n",
      "==============================================================================\n",
      "Dep. Variable:                      y   R-squared:                       0.046\n",
      "Model:                            OLS   Adj. R-squared:                  0.013\n",
      "Method:                 Least Squares   F-statistic:                     1.391\n",
      "Date:                Mon, 16 May 2016   Prob (F-statistic):              0.257\n",
      "Time:                        13:54:57   Log-Likelihood:                -589.47\n",
      "No. Observations:                  61   AIC:                             1185.\n",
      "Df Residuals:                      58   BIC:                             1191.\n",
      "Df Model:                           2                                         \n",
      "Covariance Type:            nonrobust                                         \n",
      "==============================================================================\n",
      "                 coef    std err          t      P>|t|      [95.0% Conf. Int.]\n",
      "------------------------------------------------------------------------------\n",
      "const        435.7777   3613.799      0.121      0.904     -6798.027  7669.582\n",
      "x1          4167.1391   2503.420      1.665      0.101      -844.000  9178.278\n",
      "x2          -661.1398    410.150     -1.612      0.112     -1482.145   159.865\n",
      "==============================================================================\n",
      "Omnibus:                       26.800   Durbin-Watson:                   1.793\n",
      "Prob(Omnibus):                  0.000   Jarque-Bera (JB):               45.114\n",
      "Skew:                           1.550   Prob(JB):                     1.60e-10\n",
      "Kurtosis:                       5.852   Cond. No.                         115.\n",
      "==============================================================================\n",
      "\n",
      "Warnings:\n",
      "[1] Standard Errors assume that the covariance matrix of the errors is correctly specified.\n"
     ]
    }
   ],
   "source": [
    "# T Tests\n",
    "sm.stats.ttest_ind(scores, mspeeds)\n",
    "sm.stats.ttest_ind(scores, correct)\n",
    "X = [[1, s, s**2] for s in scores]\n",
    "y = correct\n",
    "print(sm.OLS(y,X).fit().summary())\n",
    "y2 = mspeeds\n",
    "print(sm.OLS(y2,X).fit().summary())"
   ]
  },
  {
   "cell_type": "code",
   "execution_count": 31,
   "metadata": {
    "collapsed": false
   },
   "outputs": [
    {
     "name": "stdout",
     "output_type": "stream",
     "text": [
      "[[  1.00000000e+00   4.00000000e+00   4.76383333e+03]\n",
      " [  1.00000000e+00   3.00000000e+00   6.36183333e+03]\n",
      " [  1.00000000e+00   2.00000000e+00   7.89600000e+03]\n",
      " [  1.00000000e+00   4.00000000e+00   4.36436667e+03]\n",
      " [  1.00000000e+00   2.00000000e+00   5.41216667e+03]\n",
      " [  1.00000000e+00   2.00000000e+00   4.57650000e+03]\n",
      " [  1.00000000e+00   3.00000000e+00   3.99106667e+03]\n",
      " [  1.00000000e+00   2.00000000e+00   5.40690000e+03]\n",
      " [  1.00000000e+00   3.00000000e+00   3.87896667e+03]\n",
      " [  1.00000000e+00   4.00000000e+00   4.19116667e+03]\n",
      " [  1.00000000e+00   1.00000000e+00   4.76003333e+03]\n",
      " [  1.00000000e+00   2.00000000e+00   3.68836667e+03]\n",
      " [  1.00000000e+00   3.00000000e+00   5.48513333e+03]\n",
      " [  1.00000000e+00   3.00000000e+00   5.26716667e+03]\n",
      " [  1.00000000e+00   1.00000000e+00   6.67576667e+03]\n",
      " [  1.00000000e+00   3.00000000e+00   1.28093000e+04]\n",
      " [  1.00000000e+00   4.00000000e+00   1.54868667e+04]\n",
      " [  1.00000000e+00   4.00000000e+00   7.69100000e+03]\n",
      " [  1.00000000e+00   2.00000000e+00   3.85863333e+03]\n",
      " [  1.00000000e+00   2.00000000e+00   5.58923333e+03]\n",
      " [  1.00000000e+00   5.00000000e+00   6.18576667e+03]\n",
      " [  1.00000000e+00   4.00000000e+00   1.25170333e+04]\n",
      " [  1.00000000e+00   5.00000000e+00   3.63293333e+03]\n",
      " [  1.00000000e+00   2.00000000e+00   3.11696667e+03]\n",
      " [  1.00000000e+00   3.00000000e+00   3.78783333e+03]\n",
      " [  1.00000000e+00   4.00000000e+00   1.73123333e+03]\n",
      " [  1.00000000e+00   4.00000000e+00   4.45366667e+03]\n",
      " [  1.00000000e+00   4.00000000e+00   1.54868667e+04]\n",
      " [  1.00000000e+00   3.00000000e+00   1.19959333e+04]\n",
      " [  1.00000000e+00   1.00000000e+00   2.36676667e+03]\n",
      " [  1.00000000e+00   5.00000000e+00   2.46570000e+03]\n",
      " [  1.00000000e+00   4.00000000e+00   6.06166667e+03]\n",
      " [  1.00000000e+00   3.00000000e+00   4.02550000e+03]\n",
      " [  1.00000000e+00   3.00000000e+00   1.17986333e+04]\n",
      " [  1.00000000e+00   2.00000000e+00   1.93830000e+03]\n",
      " [  1.00000000e+00   1.00000000e+00   9.14476667e+03]\n",
      " [  1.00000000e+00   3.00000000e+00   3.79163333e+03]\n",
      " [  1.00000000e+00   4.00000000e+00   3.44416667e+03]\n",
      " [  1.00000000e+00   2.00000000e+00   2.05216667e+03]\n",
      " [  1.00000000e+00   3.00000000e+00   1.18594667e+04]\n",
      " [  1.00000000e+00   4.00000000e+00   1.01841000e+04]\n",
      " [  1.00000000e+00   4.00000000e+00   3.98263333e+03]\n",
      " [  1.00000000e+00   4.00000000e+00   2.61833333e+03]\n",
      " [  1.00000000e+00   5.00000000e+00   5.45233333e+03]\n",
      " [  1.00000000e+00   4.00000000e+00   5.72193333e+03]\n",
      " [  1.00000000e+00   4.00000000e+00   3.97400000e+03]\n",
      " [  1.00000000e+00   4.00000000e+00   4.80693333e+03]\n",
      " [  1.00000000e+00   3.00000000e+00   5.96356667e+03]\n",
      " [  1.00000000e+00   4.00000000e+00   2.93250000e+03]\n",
      " [  1.00000000e+00   4.00000000e+00   7.79383333e+03]\n",
      " [  1.00000000e+00   2.00000000e+00   3.58253333e+03]\n",
      " [  1.00000000e+00   4.00000000e+00   7.69306667e+03]\n",
      " [  1.00000000e+00   2.00000000e+00   6.08270000e+03]\n",
      " [  1.00000000e+00   3.00000000e+00   6.33956667e+03]\n",
      " [  1.00000000e+00   3.00000000e+00   4.02733333e+03]\n",
      " [  1.00000000e+00   3.00000000e+00   2.21408000e+04]\n",
      " [  1.00000000e+00   3.00000000e+00   7.39960000e+03]\n",
      " [  1.00000000e+00   3.00000000e+00   1.24704333e+04]\n",
      " [  1.00000000e+00   4.00000000e+00   8.75900000e+03]\n",
      " [  1.00000000e+00   3.00000000e+00   7.19316667e+03]\n",
      " [  1.00000000e+00   4.00000000e+00   1.44126667e+03]]\n",
      "                            OLS Regression Results                            \n",
      "==============================================================================\n",
      "Dep. Variable:                      y   R-squared:                       0.076\n",
      "Model:                            OLS   Adj. R-squared:                  0.044\n",
      "Method:                 Least Squares   F-statistic:                     2.396\n",
      "Date:                Mon, 16 May 2016   Prob (F-statistic):              0.100\n",
      "Time:                        14:01:05   Log-Likelihood:                -182.07\n",
      "No. Observations:                  61   AIC:                             370.1\n",
      "Df Residuals:                      58   BIC:                             376.5\n",
      "Df Model:                           2                                         \n",
      "Covariance Type:            nonrobust                                         \n",
      "==============================================================================\n",
      "                 coef    std err          t      P>|t|      [95.0% Conf. Int.]\n",
      "------------------------------------------------------------------------------\n",
      "const         17.9086      2.230      8.029      0.000        13.444    22.373\n",
      "x1             1.2621      0.613      2.059      0.044         0.035     2.489\n",
      "x2             0.0001      0.000      0.628      0.533        -0.000     0.000\n",
      "==============================================================================\n",
      "Omnibus:                        8.803   Durbin-Watson:                   1.521\n",
      "Prob(Omnibus):                  0.012   Jarque-Bera (JB):                8.642\n",
      "Skew:                          -0.910   Prob(JB):                       0.0133\n",
      "Kurtosis:                       3.291   Cond. No.                     2.70e+04\n",
      "==============================================================================\n",
      "\n",
      "Warnings:\n",
      "[1] Standard Errors assume that the covariance matrix of the errors is correctly specified.\n",
      "[2] The condition number is large, 2.7e+04. This might indicate that there are\n",
      "strong multicollinearity or other numerical problems.\n"
     ]
    }
   ],
   "source": [
    "X = np.array([scores, mspeeds]).T\n",
    "X = sm.add_constant(X)\n",
    "print(X)\n",
    "y = correct\n",
    "print(sm.OLS(y,X).fit().summary())"
   ]
  },
  {
   "cell_type": "code",
   "execution_count": 39,
   "metadata": {
    "collapsed": false
   },
   "outputs": [],
   "source": [
    "# Get the average error and avg response time for each participant\n",
    "# in the Placing Buildings on a Map Task\n",
    "error = []\n",
    "bspeeds = []\n",
    "for pid in participants:\n",
    "    dist = 0;\n",
    "    speed = sum([int(t[4]) for t in tupledData if t[0]==pid and t[1]=='bldg' and t[3]=='time'])\n",
    "    for i in range(1,15):\n",
    "        pairx = [t for t in tupledData if t[0]==pid and t[1]=='bldg' and t[2]==i and (t[3]=='guessx' or t[3]=='actualx')]\n",
    "        pairy = [t for t in tupledData if t[0]==pid and t[1]=='bldg' and t[2]==i and (t[3]=='guessy' or t[3]=='actualy')]\n",
    "        dist += np.sqrt((float(pairx[0][4])-float(pairx[1][4]))**2+(float(pairy[0][4])-float(pairy[1][4]))**2)\n",
    "    bspeeds.append(speed/15)\n",
    "    error.append(dist/15)\n",
    "# Check that the error is right with the scaling"
   ]
  },
  {
   "cell_type": "code",
   "execution_count": 43,
   "metadata": {
    "collapsed": false
   },
   "outputs": [],
   "source": [
    "# Generate a historgram of the error and speed\n",
    "plt.scatter(scores,error)\n",
    "plt.show()"
   ]
  },
  {
   "cell_type": "code",
   "execution_count": 44,
   "metadata": {
    "collapsed": true
   },
   "outputs": [],
   "source": [
    "# Generate a scatter plot of speed and accuracy\n",
    "plt.scatter(scores,bspeeds)\n",
    "plt.show()"
   ]
  },
  {
   "cell_type": "code",
   "execution_count": 45,
   "metadata": {
    "collapsed": false
   },
   "outputs": [
    {
     "name": "stdout",
     "output_type": "stream",
     "text": [
      "                            OLS Regression Results                            \n",
      "==============================================================================\n",
      "Dep. Variable:                      y   R-squared:                       0.001\n",
      "Model:                            OLS   Adj. R-squared:                 -0.015\n",
      "Method:                 Least Squares   F-statistic:                   0.08617\n",
      "Date:                Mon, 16 May 2016   Prob (F-statistic):              0.770\n",
      "Time:                        10:44:35   Log-Likelihood:                -336.15\n",
      "No. Observations:                  61   AIC:                             676.3\n",
      "Df Residuals:                      59   BIC:                             680.5\n",
      "Df Model:                           1                                         \n",
      "Covariance Type:            nonrobust                                         \n",
      "==============================================================================\n",
      "                 coef    std err          t      P>|t|      [95.0% Conf. Int.]\n",
      "------------------------------------------------------------------------------\n",
      "const        104.1413     25.230      4.128      0.000        53.656   154.627\n",
      "x1            -2.2264      7.585     -0.294      0.770       -17.403    12.950\n",
      "==============================================================================\n",
      "Omnibus:                       17.198   Durbin-Watson:                   2.363\n",
      "Prob(Omnibus):                  0.000   Jarque-Bera (JB):               20.233\n",
      "Skew:                           1.280   Prob(JB):                     4.04e-05\n",
      "Kurtosis:                       4.184   Cond. No.                         11.7\n",
      "==============================================================================\n",
      "\n",
      "Warnings:\n",
      "[1] Standard Errors assume that the covariance matrix of the errors is correctly specified.\n",
      "                            OLS Regression Results                            \n",
      "==============================================================================\n",
      "Dep. Variable:                      y   R-squared:                       0.000\n",
      "Model:                            OLS   Adj. R-squared:                 -0.016\n",
      "Method:                 Least Squares   F-statistic:                   0.02697\n",
      "Date:                Mon, 16 May 2016   Prob (F-statistic):              0.870\n",
      "Time:                        10:44:35   Log-Likelihood:                -655.51\n",
      "No. Observations:                  61   AIC:                             1315.\n",
      "Df Residuals:                      59   BIC:                             1319.\n",
      "Df Model:                           1                                         \n",
      "Covariance Type:            nonrobust                                         \n",
      "==============================================================================\n",
      "                 coef    std err          t      P>|t|      [95.0% Conf. Int.]\n",
      "------------------------------------------------------------------------------\n",
      "const       1.805e+04   4738.131      3.811      0.000      8573.771  2.75e+04\n",
      "x1          -233.9114   1424.361     -0.164      0.870     -3084.051  2616.228\n",
      "==============================================================================\n",
      "Omnibus:                       75.833   Durbin-Watson:                   1.690\n",
      "Prob(Omnibus):                  0.000   Jarque-Bera (JB):              866.300\n",
      "Skew:                           3.450   Prob(JB):                    7.68e-189\n",
      "Kurtosis:                      20.124   Cond. No.                         11.7\n",
      "==============================================================================\n",
      "\n",
      "Warnings:\n",
      "[1] Standard Errors assume that the covariance matrix of the errors is correctly specified.\n"
     ]
    }
   ],
   "source": [
    "# Run a T-test and OLS model on our scores\n",
    "X = scores\n",
    "X = sm.add_constant(X)\n",
    "y = error\n",
    "print(sm.OLS(y,X).fit().summary())\n",
    "y2 = bspeeds\n",
    "print(sm.OLS(y2,X).fit().summary())"
   ]
  },
  {
   "cell_type": "code",
   "execution_count": null,
   "metadata": {
    "collapsed": true
   },
   "outputs": [],
   "source": []
  }
 ],
 "metadata": {
  "kernelspec": {
   "display_name": "Python 3",
   "language": "python",
   "name": "python3"
  },
  "language_info": {
   "codemirror_mode": {
    "name": "ipython",
    "version": 3
   },
   "file_extension": ".py",
   "mimetype": "text/x-python",
   "name": "python",
   "nbconvert_exporter": "python",
   "pygments_lexer": "ipython3",
   "version": "3.5.1"
  }
 },
 "nbformat": 4,
 "nbformat_minor": 0
}
